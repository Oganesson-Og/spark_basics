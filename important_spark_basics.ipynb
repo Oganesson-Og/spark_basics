{
 "cells": [
  {
   "cell_type": "markdown",
   "metadata": {},
   "source": [
    "<p style=\"font-family: Arial; font-size:3.75em;color:purple; font-style:bold\"><br>\n",
    "Spark typical operations</p><br>\n",
    "                                \n"
   ]
  },
  {
   "cell_type": "markdown",
   "metadata": {},
   "source": [
    "Initializing Spark using pyspark.sql is so easy.\n",
    "\n",
    "Remember Spark Session is the window to the Spark World"
   ]
  },
  {
   "cell_type": "code",
   "execution_count": 1,
   "metadata": {},
   "outputs": [
    {
     "name": "stdout",
     "output_type": "stream",
     "text": [
      "+----------+--------+-----------+-------+------+\n",
      "|MSSubClass|MSZoning|LotFrontage|LotArea|Street|\n",
      "+----------+--------+-----------+-------+------+\n",
      "|        60|      RL|         65|   8450|  Pave|\n",
      "|        20|      RL|         80|   9600|  Pave|\n",
      "|        60|      RL|         68|  11250|  Pave|\n",
      "|        70|      RL|         60|   9550|  Pave|\n",
      "|        60|      RL|         84|  14260|  Pave|\n",
      "|        50|      RL|         85|  14115|  Pave|\n",
      "|        20|      RL|         75|  10084|  Pave|\n",
      "|        60|      RL|         NA|  10382|  Pave|\n",
      "|        50|      RM|         51|   6120|  Pave|\n",
      "|       190|      RL|         50|   7420|  Pave|\n",
      "+----------+--------+-----------+-------+------+\n",
      "only showing top 10 rows\n",
      "\n"
     ]
    }
   ],
   "source": [
    "from pyspark.sql import SparkSession\n",
    "import pandas as pd\n",
    "\n",
    "pd.pandas.set_option(\"display.max_columns\", None)\n",
    "\n",
    "sc = SparkSession.builder.appName('Hello').getOrCreate()\n",
    "\n",
    "data_frame = sc.read.csv('house_regression_train.csv', header=True, inferSchema=True)\n",
    "data_frame.select('MSSubClass', 'MSZoning', 'LotFrontage', 'LotArea', 'Street').show(10)"
   ]
  },
  {
   "cell_type": "markdown",
   "metadata": {},
   "source": [
    "Printing schema "
   ]
  },
  {
   "cell_type": "code",
   "execution_count": 2,
   "metadata": {},
   "outputs": [
    {
     "name": "stdout",
     "output_type": "stream",
     "text": [
      "<class 'pyspark.sql.dataframe.DataFrame'>\n",
      "root\n",
      " |-- Id: integer (nullable = true)\n",
      " |-- MSSubClass: integer (nullable = true)\n",
      " |-- MSZoning: string (nullable = true)\n",
      " |-- LotFrontage: string (nullable = true)\n",
      " |-- LotArea: integer (nullable = true)\n",
      " |-- Street: string (nullable = true)\n",
      " |-- Alley: string (nullable = true)\n",
      " |-- LotShape: string (nullable = true)\n",
      " |-- LandContour: string (nullable = true)\n",
      " |-- Utilities: string (nullable = true)\n",
      " |-- LotConfig: string (nullable = true)\n",
      " |-- LandSlope: string (nullable = true)\n",
      " |-- Neighborhood: string (nullable = true)\n",
      " |-- Condition1: string (nullable = true)\n",
      " |-- Condition2: string (nullable = true)\n",
      " |-- BldgType: string (nullable = true)\n",
      " |-- HouseStyle: string (nullable = true)\n",
      " |-- OverallQual: integer (nullable = true)\n",
      " |-- OverallCond: integer (nullable = true)\n",
      " |-- YearBuilt: integer (nullable = true)\n",
      " |-- YearRemodAdd: integer (nullable = true)\n",
      " |-- RoofStyle: string (nullable = true)\n",
      " |-- RoofMatl: string (nullable = true)\n",
      " |-- Exterior1st: string (nullable = true)\n",
      " |-- Exterior2nd: string (nullable = true)\n",
      " |-- MasVnrType: string (nullable = true)\n",
      " |-- MasVnrArea: string (nullable = true)\n",
      " |-- ExterQual: string (nullable = true)\n",
      " |-- ExterCond: string (nullable = true)\n",
      " |-- Foundation: string (nullable = true)\n",
      " |-- BsmtQual: string (nullable = true)\n",
      " |-- BsmtCond: string (nullable = true)\n",
      " |-- BsmtExposure: string (nullable = true)\n",
      " |-- BsmtFinType1: string (nullable = true)\n",
      " |-- BsmtFinSF1: integer (nullable = true)\n",
      " |-- BsmtFinType2: string (nullable = true)\n",
      " |-- BsmtFinSF2: integer (nullable = true)\n",
      " |-- BsmtUnfSF: integer (nullable = true)\n",
      " |-- TotalBsmtSF: integer (nullable = true)\n",
      " |-- Heating: string (nullable = true)\n",
      " |-- HeatingQC: string (nullable = true)\n",
      " |-- CentralAir: string (nullable = true)\n",
      " |-- Electrical: string (nullable = true)\n",
      " |-- 1stFlrSF: integer (nullable = true)\n",
      " |-- 2ndFlrSF: integer (nullable = true)\n",
      " |-- LowQualFinSF: integer (nullable = true)\n",
      " |-- GrLivArea: integer (nullable = true)\n",
      " |-- BsmtFullBath: integer (nullable = true)\n",
      " |-- BsmtHalfBath: integer (nullable = true)\n",
      " |-- FullBath: integer (nullable = true)\n",
      " |-- HalfBath: integer (nullable = true)\n",
      " |-- BedroomAbvGr: integer (nullable = true)\n",
      " |-- KitchenAbvGr: integer (nullable = true)\n",
      " |-- KitchenQual: string (nullable = true)\n",
      " |-- TotRmsAbvGrd: integer (nullable = true)\n",
      " |-- Functional: string (nullable = true)\n",
      " |-- Fireplaces: integer (nullable = true)\n",
      " |-- FireplaceQu: string (nullable = true)\n",
      " |-- GarageType: string (nullable = true)\n",
      " |-- GarageYrBlt: string (nullable = true)\n",
      " |-- GarageFinish: string (nullable = true)\n",
      " |-- GarageCars: integer (nullable = true)\n",
      " |-- GarageArea: integer (nullable = true)\n",
      " |-- GarageQual: string (nullable = true)\n",
      " |-- GarageCond: string (nullable = true)\n",
      " |-- PavedDrive: string (nullable = true)\n",
      " |-- WoodDeckSF: integer (nullable = true)\n",
      " |-- OpenPorchSF: integer (nullable = true)\n",
      " |-- EnclosedPorch: integer (nullable = true)\n",
      " |-- 3SsnPorch: integer (nullable = true)\n",
      " |-- ScreenPorch: integer (nullable = true)\n",
      " |-- PoolArea: integer (nullable = true)\n",
      " |-- PoolQC: string (nullable = true)\n",
      " |-- Fence: string (nullable = true)\n",
      " |-- MiscFeature: string (nullable = true)\n",
      " |-- MiscVal: integer (nullable = true)\n",
      " |-- MoSold: integer (nullable = true)\n",
      " |-- YrSold: integer (nullable = true)\n",
      " |-- SaleType: string (nullable = true)\n",
      " |-- SaleCondition: string (nullable = true)\n",
      " |-- SalePrice: integer (nullable = true)\n",
      "\n"
     ]
    }
   ],
   "source": [
    "print(type(data_frame))\n",
    "data_frame.printSchema()"
   ]
  },
  {
   "cell_type": "markdown",
   "metadata": {},
   "source": [
    "Selecting specific columns using the traditional SQL select command\n"
   ]
  },
  {
   "cell_type": "code",
   "execution_count": 3,
   "metadata": {},
   "outputs": [
    {
     "name": "stdout",
     "output_type": "stream",
     "text": [
      "+---------+------------------+\n",
      "|SalePrice|(OverallQual * 10)|\n",
      "+---------+------------------+\n",
      "|   755000|               100|\n",
      "|   745000|               100|\n",
      "|   625000|               100|\n",
      "|   611657|                90|\n",
      "|   582933|                90|\n",
      "|   556581|                90|\n",
      "|   555000|               100|\n",
      "|   538000|                80|\n",
      "|   501837|                90|\n",
      "|   485000|                90|\n",
      "|   475000|               100|\n",
      "+---------+------------------+\n",
      "only showing top 11 rows\n",
      "\n"
     ]
    }
   ],
   "source": [
    "data_frame.select(data_frame['SalePrice'], data_frame['OverallQual']*10).orderBy(data_frame.SalePrice.desc()).show(11)"
   ]
  },
  {
   "cell_type": "markdown",
   "metadata": {},
   "source": [
    "#### Count by group\n",
    "If you want to count the number of occurances by group you can use the count() and groupBy() functions as chained functions.\n"
   ]
  },
  {
   "cell_type": "code",
   "execution_count": 4,
   "metadata": {},
   "outputs": [
    {
     "name": "stdout",
     "output_type": "stream",
     "text": [
      "+-----------+-----+\n",
      "|OverallQual|count|\n",
      "+-----------+-----+\n",
      "|          1|    2|\n",
      "|          6|  374|\n",
      "|          3|   20|\n",
      "|          5|  397|\n",
      "|          9|   43|\n",
      "|          4|  116|\n",
      "|          8|  168|\n",
      "|          7|  319|\n",
      "|         10|   18|\n",
      "|          2|    3|\n",
      "+-----------+-----+\n",
      "\n"
     ]
    }
   ],
   "source": [
    "data_frame.groupBy('OverallQual').count().show()"
   ]
  },
  {
   "cell_type": "markdown",
   "metadata": {},
   "source": [
    "You can order the data by frequency using the sort function and setting ascending to False"
   ]
  },
  {
   "cell_type": "code",
   "execution_count": 5,
   "metadata": {},
   "outputs": [
    {
     "name": "stdout",
     "output_type": "stream",
     "text": [
      "+-----------+-----+\n",
      "|OverallQual|count|\n",
      "+-----------+-----+\n",
      "|          5|  397|\n",
      "|          6|  374|\n",
      "|          7|  319|\n",
      "|          8|  168|\n",
      "|          4|  116|\n",
      "|          9|   43|\n",
      "|          3|   20|\n",
      "|         10|   18|\n",
      "|          2|    3|\n",
      "|          1|    2|\n",
      "+-----------+-----+\n",
      "\n"
     ]
    }
   ],
   "source": [
    "data_frame.groupBy('OverallQual').count().sort('count', ascending=False).show()"
   ]
  },
  {
   "cell_type": "markdown",
   "metadata": {},
   "source": [
    "#### Describe the data\n",
    "You can get the summary of the data using the describe function. \n",
    "\n",
    "Similar to pandas you will get count, mean, standard deviation, min and max\n",
    "\n",
    "for illustrative purposes I'm just using a few features from the large dataset"
   ]
  },
  {
   "cell_type": "code",
   "execution_count": 6,
   "metadata": {},
   "outputs": [
    {
     "name": "stdout",
     "output_type": "stream",
     "text": [
      "+-------+----------+------------------+------------------+-----------------+\n",
      "|summary|Electrical|         SalePrice|           LotArea|      LotFrontage|\n",
      "+-------+----------+------------------+------------------+-----------------+\n",
      "|  count|      1460|              1460|              1460|             1460|\n",
      "|   mean|      null|180921.19589041095|10516.828082191782|70.04995836802665|\n",
      "| stddev|      null| 79442.50288288663|  9981.26493237915|24.28475177448321|\n",
      "|    min|     FuseA|             34900|              1300|              100|\n",
      "|    max|     SBrkr|            755000|            215245|               NA|\n",
      "+-------+----------+------------------+------------------+-----------------+\n",
      "\n"
     ]
    }
   ],
   "source": [
    "data_frame.select('Electrical','SalePrice', 'LotArea', 'LotFrontage').describe().show()"
   ]
  },
  {
   "cell_type": "markdown",
   "metadata": {},
   "source": [
    "To get the summary of one column like the target for example"
   ]
  },
  {
   "cell_type": "code",
   "execution_count": 7,
   "metadata": {},
   "outputs": [
    {
     "name": "stdout",
     "output_type": "stream",
     "text": [
      "+-------+------------------+\n",
      "|summary|         SalePrice|\n",
      "+-------+------------------+\n",
      "|  count|              1460|\n",
      "|   mean|180921.19589041095|\n",
      "| stddev| 79442.50288288663|\n",
      "|    min|             34900|\n",
      "|    max|            755000|\n",
      "+-------+------------------+\n",
      "\n"
     ]
    }
   ],
   "source": [
    "data_frame.select('SalePrice').describe().show()"
   ]
  },
  {
   "cell_type": "markdown",
   "metadata": {},
   "source": [
    "#### Crosstab  computation\n",
    "In some occasion it may be interesting to see the descriptive statistics between two pairwise columns."
   ]
  },
  {
   "cell_type": "code",
   "execution_count": 8,
   "metadata": {},
   "outputs": [
    {
     "name": "stdout",
     "output_type": "stream",
     "text": [
      "+----------+-----+\n",
      "|GarageQual|count|\n",
      "+----------+-----+\n",
      "|        Gd|   14|\n",
      "|        NA|   81|\n",
      "|        Po|    3|\n",
      "|        Ex|    3|\n",
      "|        Fa|   48|\n",
      "|        TA| 1311|\n",
      "+----------+-----+\n",
      "\n"
     ]
    }
   ],
   "source": [
    "data_frame.groupBy('GarageQual').count().show()"
   ]
  },
  {
   "cell_type": "code",
   "execution_count": 9,
   "metadata": {},
   "outputs": [
    {
     "name": "stdout",
     "output_type": "stream",
     "text": [
      "+----------------------+---+---+---+---+---+---+\n",
      "|OverallQual_GarageQual| Ex| Fa| Gd| NA| Po| TA|\n",
      "+----------------------+---+---+---+---+---+---+\n",
      "|                     1|  0|  0|  0|  2|  0|  0|\n",
      "|                    10|  1|  0|  1|  0|  0| 16|\n",
      "|                     2|  0|  0|  0|  1|  0|  2|\n",
      "|                     3|  0|  2|  0|  6|  0| 12|\n",
      "|                     4|  0| 10|  0| 26|  0| 80|\n",
      "|                     5|  1| 19|  3| 32|  2|340|\n",
      "|                     6|  1| 12|  4| 12|  1|344|\n",
      "|                     7|  0|  5|  3|  1|  0|310|\n",
      "|                     8|  0|  0|  3|  1|  0|164|\n",
      "|                     9|  0|  0|  0|  0|  0| 43|\n",
      "+----------------------+---+---+---+---+---+---+\n",
      "\n"
     ]
    }
   ],
   "source": [
    "data_frame.crosstab('OverallQual', 'GarageQual').sort('OverallQual_GarageQual').show()"
   ]
  },
  {
   "cell_type": "code",
   "execution_count": 10,
   "metadata": {},
   "outputs": [
    {
     "name": "stdout",
     "output_type": "stream",
     "text": [
      "+----------------------+---+---+---+---+---+---+---+---+---+---+\n",
      "|GarageQual_OverallQual|  1| 10|  2|  3|  4|  5|  6|  7|  8|  9|\n",
      "+----------------------+---+---+---+---+---+---+---+---+---+---+\n",
      "|                    Ex|  0|  1|  0|  0|  0|  1|  1|  0|  0|  0|\n",
      "|                    Fa|  0|  0|  0|  2| 10| 19| 12|  5|  0|  0|\n",
      "|                    Gd|  0|  1|  0|  0|  0|  3|  4|  3|  3|  0|\n",
      "|                    NA|  2|  0|  1|  6| 26| 32| 12|  1|  1|  0|\n",
      "|                    Po|  0|  0|  0|  0|  0|  2|  1|  0|  0|  0|\n",
      "|                    TA|  0| 16|  2| 12| 80|340|344|310|164| 43|\n",
      "+----------------------+---+---+---+---+---+---+---+---+---+---+\n",
      "\n"
     ]
    }
   ],
   "source": [
    "data_frame.crosstab('GarageQual', 'OverallQual').sort('GarageQual_OverallQual').show()"
   ]
  },
  {
   "cell_type": "markdown",
   "metadata": {},
   "source": [
    "#### Drop \n",
    "There are two intuitive API calls: drop('column_name').columns to drop a column and dropna() for null values.\n",
    "\n",
    "remember, the above operation returns a new data frame so you need to set a new variable for it"
   ]
  },
  {
   "cell_type": "code",
   "execution_count": 18,
   "metadata": {},
   "outputs": [
    {
     "data": {
      "text/plain": [
       "['MoSold', 'YrSold', 'SaleType', 'SaleCondition', 'SalePrice']"
      ]
     },
     "execution_count": 18,
     "metadata": {},
     "output_type": "execute_result"
    }
   ],
   "source": [
    "df = data_frame.drop('Id','MSSubClass', 'MSZoning', 'LotFrontage', 'LotArea', 'Street', 'Alley', 'LotShape', 'LandContour', 'Utilities',\n",
    " 'LotConfig',\n",
    " 'LandSlope',\n",
    " 'Neighborhood',\n",
    " 'Condition1',\n",
    " 'Condition2',\n",
    " 'BldgType',\n",
    " 'HouseStyle',\n",
    " 'OverallQual',\n",
    " 'OverallCond',\n",
    " 'YearBuilt',\n",
    " 'YearRemodAdd',\n",
    " 'RoofStyle',\n",
    " 'RoofMatl',\n",
    " 'Exterior1st',\n",
    " 'Exterior2nd',\n",
    " 'MasVnrType',\n",
    " 'MasVnrArea',\n",
    " 'ExterQual',\n",
    " 'ExterCond',\n",
    " 'Foundation',\n",
    " 'BsmtQual',\n",
    " 'BsmtCond',\n",
    " 'BsmtExposure',\n",
    " 'BsmtFinType1',\n",
    " 'BsmtFinSF1',\n",
    " 'BsmtFinType2',\n",
    " 'BsmtFinSF2',\n",
    " 'BsmtUnfSF',\n",
    " 'TotalBsmtSF',\n",
    " 'Heating',\n",
    " 'HeatingQC',\n",
    " 'CentralAir',\n",
    " 'Electrical',\n",
    " '1stFlrSF',\n",
    " '2ndFlrSF',\n",
    " 'LowQualFinSF',\n",
    " 'GrLivArea',\n",
    " 'BsmtFullBath',\n",
    " 'BsmtHalfBath',\n",
    " 'FullBath',\n",
    " 'HalfBath',\n",
    " 'BedroomAbvGr',\n",
    " 'KitchenAbvGr',\n",
    " 'KitchenQual',\n",
    " 'TotRmsAbvGrd',\n",
    " 'Functional',\n",
    " 'Fireplaces',\n",
    " 'FireplaceQu',\n",
    " 'GarageType',\n",
    " 'GarageYrBlt',\n",
    " 'GarageFinish',\n",
    " 'GarageCars',\n",
    " 'GarageArea',\n",
    " 'GarageQual',\n",
    " 'GarageCond',\n",
    " 'PavedDrive',\n",
    " 'WoodDeckSF',\n",
    " 'OpenPorchSF',\n",
    " 'EnclosedPorch',\n",
    " '3SsnPorch',\n",
    " 'ScreenPorch',\n",
    " 'PoolArea',\n",
    " 'PoolQC',\n",
    " 'Fence',\n",
    " 'MiscFeature',\n",
    " 'MiscVal',)\n",
    "df.columns"
   ]
  },
  {
   "cell_type": "markdown",
   "metadata": {},
   "source": [
    "#### Filter\n",
    "You can use the filter function for obvious purposes"
   ]
  },
  {
   "cell_type": "code",
   "execution_count": 20,
   "metadata": {},
   "outputs": [
    {
     "name": "stdout",
     "output_type": "stream",
     "text": [
      "+------+------+--------+-------------+---------+\n",
      "|MoSold|YrSold|SaleType|SaleCondition|SalePrice|\n",
      "+------+------+--------+-------------+---------+\n",
      "|     2|  2008|      WD|       Normal|   208500|\n",
      "|     5|  2007|      WD|       Normal|   181500|\n",
      "|     9|  2008|      WD|       Normal|   223500|\n",
      "|    12|  2008|      WD|       Normal|   250000|\n",
      "|     8|  2007|      WD|       Normal|   307000|\n",
      "|    11|  2009|      WD|       Normal|   200000|\n",
      "|     7|  2006|     New|      Partial|   345000|\n",
      "|     8|  2007|     New|      Partial|   279500|\n",
      "|    11|  2006|     New|      Partial|   325300|\n",
      "|     9|  2008|      WD|       Normal|   230000|\n",
      "+------+------+--------+-------------+---------+\n",
      "only showing top 10 rows\n",
      "\n"
     ]
    }
   ],
   "source": [
    "df.filter(df.SalePrice>=180921).show(10)"
   ]
  },
  {
   "cell_type": "markdown",
   "metadata": {},
   "source": [
    "#### Descriptive statistics by group\n",
    "Finally, you group data by groups and compute statistical operations like the mean"
   ]
  },
  {
   "cell_type": "code",
   "execution_count": 23,
   "metadata": {},
   "outputs": [
    {
     "name": "stdout",
     "output_type": "stream",
     "text": [
      "+-----------+------------------+\n",
      "|OverallQual|    avg(SalePrice)|\n",
      "+-----------+------------------+\n",
      "|          1|           50150.0|\n",
      "|          2|51770.333333333336|\n",
      "|          3|          87473.75|\n",
      "|          4| 108420.6551724138|\n",
      "|          5|133523.34760705288|\n",
      "|          6| 161603.0347593583|\n",
      "|          7|207716.42319749217|\n",
      "|          8|274735.53571428574|\n",
      "|          9| 367513.0232558139|\n",
      "|         10| 438588.3888888889|\n",
      "+-----------+------------------+\n",
      "\n"
     ]
    }
   ],
   "source": [
    "data_frame.groupBy('OverallQual').agg({'SalePrice': 'mean'}).sort('OverallQual').show()"
   ]
  },
  {
   "cell_type": "markdown",
   "metadata": {},
   "source": [
    "To convert a spark dataframe to  Pandas\n"
   ]
  },
  {
   "cell_type": "code",
   "execution_count": 24,
   "metadata": {},
   "outputs": [
    {
     "data": {
      "text/plain": [
       "pandas.core.frame.DataFrame"
      ]
     },
     "execution_count": 24,
     "metadata": {},
     "output_type": "execute_result"
    }
   ],
   "source": [
    "import pandas as pd\n",
    "\n",
    "sliced_credit = df.toPandas()\n",
    "type(sliced_credit)"
   ]
  },
  {
   "cell_type": "code",
   "execution_count": 25,
   "metadata": {},
   "outputs": [
    {
     "name": "stdout",
     "output_type": "stream",
     "text": [
      "+-----------+------+------+--------+-------------+---------+\n",
      "|OverallQual|MoSold|YrSold|SaleType|SaleCondition|SalePrice|\n",
      "+-----------+------+------+--------+-------------+---------+\n",
      "|          1|     1|  2007|      WD|       Normal|    39300|\n",
      "|          1|     3|  2009|      WD|       Normal|    61000|\n",
      "|          2|     1|  2009|   ConLw|       Normal|    60000|\n",
      "|          2|    10|  2006|      WD|      Abnorml|    35311|\n",
      "|          2|     1|  2009|      WD|       Normal|    60000|\n",
      "|          3|     5|  2006|      WD|       Normal|    87500|\n",
      "|          3|    10|  2009|   ConLD|      Abnorml|    85000|\n",
      "|          3|     6|  2007|      WD|       Normal|   120000|\n",
      "|          3|     5|  2009|      WD|      Abnorml|    37900|\n",
      "|          3|     9|  2008|      WD|       Normal|    67000|\n",
      "|          3|     7|  2008|      WD|       Normal|    52000|\n",
      "+-----------+------+------+--------+-------------+---------+\n",
      "only showing top 11 rows\n",
      "\n"
     ]
    }
   ],
   "source": [
    "data_frame.select('OverallQual', 'MoSold', 'YrSold', 'SaleType', 'SaleCondition', 'SalePrice').orderBy('OverallQual').show(11)"
   ]
  },
  {
   "cell_type": "markdown",
   "metadata": {},
   "source": [
    "#### SQL Direct\n",
    "To run SQL queries directly we need to create an SQL temporary view. "
   ]
  },
  {
   "cell_type": "code",
   "execution_count": 33,
   "metadata": {},
   "outputs": [
    {
     "name": "stdout",
     "output_type": "stream",
     "text": [
      "<class 'pyspark.sql.dataframe.DataFrame'>\n",
      "+-----------+------+------+--------+-------------+---------+\n",
      "|OverallQual|MoSold|YrSold|SaleType|SaleCondition|SalePrice|\n",
      "+-----------+------+------+--------+-------------+---------+\n",
      "|          4|    11|  2009|      WD|      Abnorml|    34900|\n",
      "|          2|    10|  2006|      WD|      Abnorml|    35311|\n",
      "|          4|     7|  2008|      WD|       Normal|    40000|\n",
      "|          3|     7|  2008|      WD|       Normal|    52000|\n",
      "|          4|     7|  2010|      WD|       Normal|    55000|\n",
      "|          5|     6|  2010|      WD|       Alloca|    55993|\n",
      "|          3|     6|  2010|      WD|       Normal|    58500|\n",
      "|          5|     6|  2009|     COD|      Abnorml|    60000|\n",
      "|          5|    12|  2009|      WD|       Normal|    62383|\n",
      "|          4|     8|  2007|      WD|       Normal|    64500|\n",
      "|          5|     8|  2009|      WD|      Abnorml|    66500|\n",
      "|          5|    11|  2007|      WD|      Abnorml|    67000|\n",
      "|          3|     9|  2008|      WD|       Normal|    67000|\n",
      "|          3|     7|  2008|      WD|       Normal|    72500|\n",
      "|          5|     6|  2008|      WD|       Normal|    73000|\n",
      "|          6|    10|  2009|      WD|       Normal|    76000|\n",
      "|          5|     7|  2009|      WD|       Normal|    78000|\n",
      "|          5|     8|  2008|      WD|       Normal|    79500|\n",
      "|          6|     9|  2008|   ConLD|      Abnorml|    79900|\n",
      "|          4|     6|  2006|      WD|       Normal|    79900|\n",
      "+-----------+------+------+--------+-------------+---------+\n",
      "only showing top 20 rows\n",
      "\n"
     ]
    }
   ],
   "source": [
    "data_frame.createOrReplaceTempView('oganesson')\n",
    "sql_type = sc.sql('SELECT OverallQual, MoSold , YrSold, SaleType, SaleCondition, SalePrice FROM oganesson WHERE MoSold > 5 ORDER BY SalePrice')\n",
    "print(type(sql_type))\n",
    "sql_type.show()\n"
   ]
  },
  {
   "cell_type": "markdown",
   "metadata": {},
   "source": [
    "#### Converting an sql dataframe to a pandas for downstream operations"
   ]
  },
  {
   "cell_type": "code",
   "execution_count": 34,
   "metadata": {},
   "outputs": [
    {
     "data": {
      "text/plain": [
       "pandas.core.frame.DataFrame"
      ]
     },
     "execution_count": 34,
     "metadata": {},
     "output_type": "execute_result"
    }
   ],
   "source": [
    "sql_changed = sql_type.toPandas()\n",
    "type(sql_changed)"
   ]
  },
  {
   "cell_type": "markdown",
   "metadata": {},
   "source": [
    "If you need an RDD, you can use the command below to convert a dataframe to an RDD"
   ]
  },
  {
   "cell_type": "code",
   "execution_count": 35,
   "metadata": {},
   "outputs": [
    {
     "data": {
      "text/plain": [
       "pyspark.rdd.RDD"
      ]
     },
     "execution_count": 35,
     "metadata": {},
     "output_type": "execute_result"
    }
   ],
   "source": [
    "rdd1 = data_frame.rdd\n",
    "type(rdd1)"
   ]
  },
  {
   "cell_type": "code",
   "execution_count": 36,
   "metadata": {},
   "outputs": [
    {
     "data": {
      "text/plain": [
       "[Row(Id=1, MSSubClass=60, MSZoning='RL', LotFrontage='65', LotArea=8450, Street='Pave', Alley='NA', LotShape='Reg', LandContour='Lvl', Utilities='AllPub', LotConfig='Inside', LandSlope='Gtl', Neighborhood='CollgCr', Condition1='Norm', Condition2='Norm', BldgType='1Fam', HouseStyle='2Story', OverallQual=7, OverallCond=5, YearBuilt=2003, YearRemodAdd=2003, RoofStyle='Gable', RoofMatl='CompShg', Exterior1st='VinylSd', Exterior2nd='VinylSd', MasVnrType='BrkFace', MasVnrArea='196', ExterQual='Gd', ExterCond='TA', Foundation='PConc', BsmtQual='Gd', BsmtCond='TA', BsmtExposure='No', BsmtFinType1='GLQ', BsmtFinSF1=706, BsmtFinType2='Unf', BsmtFinSF2=0, BsmtUnfSF=150, TotalBsmtSF=856, Heating='GasA', HeatingQC='Ex', CentralAir='Y', Electrical='SBrkr', 1stFlrSF=856, 2ndFlrSF=854, LowQualFinSF=0, GrLivArea=1710, BsmtFullBath=1, BsmtHalfBath=0, FullBath=2, HalfBath=1, BedroomAbvGr=3, KitchenAbvGr=1, KitchenQual='Gd', TotRmsAbvGrd=8, Functional='Typ', Fireplaces=0, FireplaceQu='NA', GarageType='Attchd', GarageYrBlt='2003', GarageFinish='RFn', GarageCars=2, GarageArea=548, GarageQual='TA', GarageCond='TA', PavedDrive='Y', WoodDeckSF=0, OpenPorchSF=61, EnclosedPorch=0, 3SsnPorch=0, ScreenPorch=0, PoolArea=0, PoolQC='NA', Fence='NA', MiscFeature='NA', MiscVal=0, MoSold=2, YrSold=2008, SaleType='WD', SaleCondition='Normal', SalePrice=208500),\n",
       " Row(Id=2, MSSubClass=20, MSZoning='RL', LotFrontage='80', LotArea=9600, Street='Pave', Alley='NA', LotShape='Reg', LandContour='Lvl', Utilities='AllPub', LotConfig='FR2', LandSlope='Gtl', Neighborhood='Veenker', Condition1='Feedr', Condition2='Norm', BldgType='1Fam', HouseStyle='1Story', OverallQual=6, OverallCond=8, YearBuilt=1976, YearRemodAdd=1976, RoofStyle='Gable', RoofMatl='CompShg', Exterior1st='MetalSd', Exterior2nd='MetalSd', MasVnrType='None', MasVnrArea='0', ExterQual='TA', ExterCond='TA', Foundation='CBlock', BsmtQual='Gd', BsmtCond='TA', BsmtExposure='Gd', BsmtFinType1='ALQ', BsmtFinSF1=978, BsmtFinType2='Unf', BsmtFinSF2=0, BsmtUnfSF=284, TotalBsmtSF=1262, Heating='GasA', HeatingQC='Ex', CentralAir='Y', Electrical='SBrkr', 1stFlrSF=1262, 2ndFlrSF=0, LowQualFinSF=0, GrLivArea=1262, BsmtFullBath=0, BsmtHalfBath=1, FullBath=2, HalfBath=0, BedroomAbvGr=3, KitchenAbvGr=1, KitchenQual='TA', TotRmsAbvGrd=6, Functional='Typ', Fireplaces=1, FireplaceQu='TA', GarageType='Attchd', GarageYrBlt='1976', GarageFinish='RFn', GarageCars=2, GarageArea=460, GarageQual='TA', GarageCond='TA', PavedDrive='Y', WoodDeckSF=298, OpenPorchSF=0, EnclosedPorch=0, 3SsnPorch=0, ScreenPorch=0, PoolArea=0, PoolQC='NA', Fence='NA', MiscFeature='NA', MiscVal=0, MoSold=5, YrSold=2007, SaleType='WD', SaleCondition='Normal', SalePrice=181500),\n",
       " Row(Id=3, MSSubClass=60, MSZoning='RL', LotFrontage='68', LotArea=11250, Street='Pave', Alley='NA', LotShape='IR1', LandContour='Lvl', Utilities='AllPub', LotConfig='Inside', LandSlope='Gtl', Neighborhood='CollgCr', Condition1='Norm', Condition2='Norm', BldgType='1Fam', HouseStyle='2Story', OverallQual=7, OverallCond=5, YearBuilt=2001, YearRemodAdd=2002, RoofStyle='Gable', RoofMatl='CompShg', Exterior1st='VinylSd', Exterior2nd='VinylSd', MasVnrType='BrkFace', MasVnrArea='162', ExterQual='Gd', ExterCond='TA', Foundation='PConc', BsmtQual='Gd', BsmtCond='TA', BsmtExposure='Mn', BsmtFinType1='GLQ', BsmtFinSF1=486, BsmtFinType2='Unf', BsmtFinSF2=0, BsmtUnfSF=434, TotalBsmtSF=920, Heating='GasA', HeatingQC='Ex', CentralAir='Y', Electrical='SBrkr', 1stFlrSF=920, 2ndFlrSF=866, LowQualFinSF=0, GrLivArea=1786, BsmtFullBath=1, BsmtHalfBath=0, FullBath=2, HalfBath=1, BedroomAbvGr=3, KitchenAbvGr=1, KitchenQual='Gd', TotRmsAbvGrd=6, Functional='Typ', Fireplaces=1, FireplaceQu='TA', GarageType='Attchd', GarageYrBlt='2001', GarageFinish='RFn', GarageCars=2, GarageArea=608, GarageQual='TA', GarageCond='TA', PavedDrive='Y', WoodDeckSF=0, OpenPorchSF=42, EnclosedPorch=0, 3SsnPorch=0, ScreenPorch=0, PoolArea=0, PoolQC='NA', Fence='NA', MiscFeature='NA', MiscVal=0, MoSold=9, YrSold=2008, SaleType='WD', SaleCondition='Normal', SalePrice=223500),\n",
       " Row(Id=4, MSSubClass=70, MSZoning='RL', LotFrontage='60', LotArea=9550, Street='Pave', Alley='NA', LotShape='IR1', LandContour='Lvl', Utilities='AllPub', LotConfig='Corner', LandSlope='Gtl', Neighborhood='Crawfor', Condition1='Norm', Condition2='Norm', BldgType='1Fam', HouseStyle='2Story', OverallQual=7, OverallCond=5, YearBuilt=1915, YearRemodAdd=1970, RoofStyle='Gable', RoofMatl='CompShg', Exterior1st='Wd Sdng', Exterior2nd='Wd Shng', MasVnrType='None', MasVnrArea='0', ExterQual='TA', ExterCond='TA', Foundation='BrkTil', BsmtQual='TA', BsmtCond='Gd', BsmtExposure='No', BsmtFinType1='ALQ', BsmtFinSF1=216, BsmtFinType2='Unf', BsmtFinSF2=0, BsmtUnfSF=540, TotalBsmtSF=756, Heating='GasA', HeatingQC='Gd', CentralAir='Y', Electrical='SBrkr', 1stFlrSF=961, 2ndFlrSF=756, LowQualFinSF=0, GrLivArea=1717, BsmtFullBath=1, BsmtHalfBath=0, FullBath=1, HalfBath=0, BedroomAbvGr=3, KitchenAbvGr=1, KitchenQual='Gd', TotRmsAbvGrd=7, Functional='Typ', Fireplaces=1, FireplaceQu='Gd', GarageType='Detchd', GarageYrBlt='1998', GarageFinish='Unf', GarageCars=3, GarageArea=642, GarageQual='TA', GarageCond='TA', PavedDrive='Y', WoodDeckSF=0, OpenPorchSF=35, EnclosedPorch=272, 3SsnPorch=0, ScreenPorch=0, PoolArea=0, PoolQC='NA', Fence='NA', MiscFeature='NA', MiscVal=0, MoSold=2, YrSold=2006, SaleType='WD', SaleCondition='Abnorml', SalePrice=140000),\n",
       " Row(Id=5, MSSubClass=60, MSZoning='RL', LotFrontage='84', LotArea=14260, Street='Pave', Alley='NA', LotShape='IR1', LandContour='Lvl', Utilities='AllPub', LotConfig='FR2', LandSlope='Gtl', Neighborhood='NoRidge', Condition1='Norm', Condition2='Norm', BldgType='1Fam', HouseStyle='2Story', OverallQual=8, OverallCond=5, YearBuilt=2000, YearRemodAdd=2000, RoofStyle='Gable', RoofMatl='CompShg', Exterior1st='VinylSd', Exterior2nd='VinylSd', MasVnrType='BrkFace', MasVnrArea='350', ExterQual='Gd', ExterCond='TA', Foundation='PConc', BsmtQual='Gd', BsmtCond='TA', BsmtExposure='Av', BsmtFinType1='GLQ', BsmtFinSF1=655, BsmtFinType2='Unf', BsmtFinSF2=0, BsmtUnfSF=490, TotalBsmtSF=1145, Heating='GasA', HeatingQC='Ex', CentralAir='Y', Electrical='SBrkr', 1stFlrSF=1145, 2ndFlrSF=1053, LowQualFinSF=0, GrLivArea=2198, BsmtFullBath=1, BsmtHalfBath=0, FullBath=2, HalfBath=1, BedroomAbvGr=4, KitchenAbvGr=1, KitchenQual='Gd', TotRmsAbvGrd=9, Functional='Typ', Fireplaces=1, FireplaceQu='TA', GarageType='Attchd', GarageYrBlt='2000', GarageFinish='RFn', GarageCars=3, GarageArea=836, GarageQual='TA', GarageCond='TA', PavedDrive='Y', WoodDeckSF=192, OpenPorchSF=84, EnclosedPorch=0, 3SsnPorch=0, ScreenPorch=0, PoolArea=0, PoolQC='NA', Fence='NA', MiscFeature='NA', MiscVal=0, MoSold=12, YrSold=2008, SaleType='WD', SaleCondition='Normal', SalePrice=250000)]"
      ]
     },
     "execution_count": 36,
     "metadata": {},
     "output_type": "execute_result"
    }
   ],
   "source": [
    "rdd1.take(5)"
   ]
  },
  {
   "cell_type": "code",
   "execution_count": 37,
   "metadata": {},
   "outputs": [
    {
     "data": {
      "text/plain": [
       "1460"
      ]
     },
     "execution_count": 37,
     "metadata": {},
     "output_type": "execute_result"
    }
   ],
   "source": [
    "rdd1.count()\n"
   ]
  },
  {
   "cell_type": "markdown",
   "metadata": {},
   "source": [
    "### Persisting data\n",
    "There are several persit options available in Pyspark\n",
    "Let us see them one at a time:\n",
    "\n",
    "##### 1.) MEMORY_ONLY:\n",
    "In this storage level the whole of the RDD is stored as deserialized Java object in the JVM. It tries to use all the memory available for caching so it does not have to use the disk. If the memory is insufficient it will not cache some of the partitions and those will be recomputed when needed. In this mode the storage utilization is maximum and CPU computation is least.\n",
    "##### 2.) MEMORY_AND_DISK:\n",
    "In this storage level the RDD is stored in memory and only the excess partitions are spilled to the disk. When needed again the partitions are read from the disk and served. In this storage level, the memory utilization is maximum along with some disk and CPU utilization is medium.\n",
    "###### 3.) MEMORY_ONLY_SER:\n",
    "In this level Spark stores the RDD as a serialized Java object, one byte-array per partition. It is very much optimized for space compared to deserialized Java object, especially in case of fast serializer. But this makes CPU utilization very high and it does not use the disk at all.\n",
    "###### 4.) MEMORY_AND_DISK_SER: \n",
    "This level is very similar to MEMORY_ONLY_SER with the only difference that the excess partitions which do not fit in memory are written to disk. So they are read from disk when needed, instead of recompute being triggered. The space used for storage is low but CPU computation time increases.\n",
    "###### 5.)DISK_ONLY: \n",
    "In this level, the RDD is persisted on disk only and nothing in memory. So the memory utilization is minimal but the CPU computation time increases a lot.\n",
    "######  6MEMORY_ONLY_2 and MEMORY_AND_DISK_2:\n",
    "These are similar to MEMORY_ ONLY and MEMORY_ AND_DISK. The only difference is that each partition of the RDD is replicated on two nodes on the cluster."
   ]
  },
  {
   "cell_type": "code",
   "execution_count": 38,
   "metadata": {},
   "outputs": [],
   "source": [
    "from pyspark import StorageLevel"
   ]
  },
  {
   "cell_type": "code",
   "execution_count": 39,
   "metadata": {},
   "outputs": [
    {
     "data": {
      "text/plain": [
       "MapPartitionsRDD[148] at javaToPython at NativeMethodAccessorImpl.java:0"
      ]
     },
     "execution_count": 39,
     "metadata": {},
     "output_type": "execute_result"
    }
   ],
   "source": [
    "rdd1.persist(storageLevel=StorageLevel.MEMORY_AND_DISK)"
   ]
  },
  {
   "cell_type": "markdown",
   "metadata": {},
   "source": [
    "It is a good idea to always release the memory held by persist above."
   ]
  },
  {
   "cell_type": "code",
   "execution_count": 40,
   "metadata": {},
   "outputs": [
    {
     "data": {
      "text/plain": [
       "MapPartitionsRDD[148] at javaToPython at NativeMethodAccessorImpl.java:0"
      ]
     },
     "execution_count": 40,
     "metadata": {},
     "output_type": "execute_result"
    }
   ],
   "source": [
    "rdd1.unpersist()"
   ]
  },
  {
   "cell_type": "code",
   "execution_count": null,
   "metadata": {},
   "outputs": [],
   "source": []
  }
 ],
 "metadata": {
  "kernelspec": {
   "display_name": "Python 3",
   "language": "python",
   "name": "python3"
  },
  "language_info": {
   "codemirror_mode": {
    "name": "ipython",
    "version": 3
   },
   "file_extension": ".py",
   "mimetype": "text/x-python",
   "name": "python",
   "nbconvert_exporter": "python",
   "pygments_lexer": "ipython3",
   "version": "3.7.6"
  }
 },
 "nbformat": 4,
 "nbformat_minor": 4
}
